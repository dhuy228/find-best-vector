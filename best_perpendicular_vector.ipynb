{
  "nbformat": 4,
  "nbformat_minor": 0,
  "metadata": {
    "colab": {
      "name": "best-perpendicular-vector.ipynb",
      "version": "0.3.2",
      "provenance": [],
      "collapsed_sections": [],
      "include_colab_link": true
    },
    "kernelspec": {
      "name": "python3",
      "display_name": "Python 3"
    }
  },
  "cells": [
    {
      "cell_type": "markdown",
      "metadata": {
        "id": "view-in-github",
        "colab_type": "text"
      },
      "source": [
        "<a href=\"https://colab.research.google.com/github/dhuy228/find-best-vector/blob/master/best_perpendicular_vector.ipynb\" target=\"_parent\"><img src=\"https://colab.research.google.com/assets/colab-badge.svg\" alt=\"Open In Colab\"/></a>"
      ]
    },
    {
      "cell_type": "code",
      "metadata": {
        "id": "ejbF0547gHRb",
        "colab_type": "code",
        "colab": {}
      },
      "source": [
        "import numpy as np\n",
        "import math as m\n",
        "from scipy.optimize import minimize"
      ],
      "execution_count": 0,
      "outputs": []
    },
    {
      "cell_type": "code",
      "metadata": {
        "id": "4UiGlJq1gKPd",
        "colab_type": "code",
        "colab": {}
      },
      "source": [
        "a = [1,2,3]\n",
        "b = [2,3,4]\n",
        "c = [4,5,4]\n",
        "d = [0,-3,2]\n",
        "\n",
        "a = np.array(a) / np.linalg.norm(a)\n",
        "b = np.array(b) / np.linalg.norm(b)\n",
        "c = np.array(c) / np.linalg.norm(c)\n",
        "d = np.array(d) / np.linalg.norm(d) # d is perpendicular to a"
      ],
      "execution_count": 0,
      "outputs": []
    },
    {
      "cell_type": "code",
      "metadata": {
        "id": "QYfbwVZSgYAE",
        "colab_type": "code",
        "colab": {}
      },
      "source": [
        "def cart2sph(x,y,z, r = 1):\n",
        "        #print(x, y, z)\n",
        "        ss_xy = x**2 + y**2\n",
        "        #r = m.sqrt(ss_xy+z**2)\n",
        "        theta = m.atan2(z,m.sqrt(ss_xy))\n",
        "        phi = m.atan2(y,x)\n",
        "        return np.array([r,theta,phi])\n",
        "\n",
        "def sph2cart(r, theta, phi):\n",
        "        x = r * m.sin(theta) * m.cos(phi)\n",
        "        y = r * m.sin(theta) * m.sin(phi)\n",
        "        z = r * m.cos(theta)\n",
        "        return np.array([x,y,z])\n",
        "      \n",
        "def angle_between_vector(v1, v2, degree=True):\n",
        "        v1_u = v1 / np.linalg.norm(v1)\n",
        "        v2_u = v2 / np.linalg.norm(v2)\n",
        "\n",
        "        # Clip, because the dot product can slip past 1 or -1 due to rounding and\n",
        "        # we can't coputer accros with abs(value) > 1\n",
        "        angle = np.arccos(np.clip(np.dot(v1_u, v2_u), -1.0, 1.0))\n",
        "        if degree: angle = np.degrees(angle)\n",
        "        return angle\n",
        "\n",
        "g = lambda x,y : sum([abs(np.dot(x, i)) for i in y])"
      ],
      "execution_count": 0,
      "outputs": []
    },
    {
      "cell_type": "code",
      "metadata": {
        "id": "YqpBamr3gnNE",
        "colab_type": "code",
        "outputId": "834ce64b-3e98-41fd-aa91-a7a6884874f7",
        "colab": {
          "base_uri": "https://localhost:8080/",
          "height": 347
        }
      },
      "source": [
        "# Inspired by a.b = ||a|| * ||b|| * cos(a,b)\n",
        "# Best perpendicular vector should have the smallest absolute value  of cos(a,b) (hence cos(a,b) ~ 0, hence angle between a,b should be close to either 90 or 270 degrees)\n",
        "\n",
        "f = lambda x,y : sum([abs(m.cos(m.radians(angle_between_vector(x,i)))) for i in y])\n",
        "                      \n",
        "res = minimize(f, [1,1,1], method='SLSQP', args=([a,b,c]))\n",
        "\n",
        "print(res)\n",
        "\n",
        "res = res.x / np.linalg.norm(res.x)\n",
        "\n",
        "print(res)\n",
        "\n",
        "for i in [a,b,c]:\n",
        "  print('dot : ', np.dot(res,i))\n",
        "  print('dot cos : ', m.cos(m.radians(angle_between_vector(res,i))))\n",
        "  #print(\"cosine similarity : \", cosine_similarity(res,i))\n",
        "  \n",
        "print(g(res, [a,b,c]))\n",
        "print(f(res, [a,b,c]))"
      ],
      "execution_count": 84,
      "outputs": [
        {
          "output_type": "stream",
          "text": [
            "     fun: 0.03733177500622606\n",
            "     jac: array([-0.03837137, -0.05234241, -0.05121226])\n",
            " message: 'Optimization terminated successfully.'\n",
            "    nfev: 170\n",
            "     nit: 27\n",
            "    njev: 27\n",
            "  status: 0\n",
            " success: True\n",
            "       x: array([ 7.2999392 , -8.54294689,  3.26191668])\n",
            "[ 0.62387822 -0.73010999  0.27877476]\n",
            "dot :  -4.671849059584288e-06\n",
            "dot cos :  -4.671849059533816e-06\n",
            "dot :  0.03203718331085548\n",
            "dot cos :  0.03203718331085548\n",
            "dot :  -0.005289919846311136\n",
            "dot cos :  -0.005289919846311049\n",
            "0.0373317750062262\n",
            "-0.16262917998198256\n",
            "0.03733177500622606\n"
          ],
          "name": "stdout"
        }
      ]
    },
    {
      "cell_type": "code",
      "metadata": {
        "id": "iN_MnHfdisam",
        "colab_type": "code",
        "outputId": "5fad1f3c-eff9-47b4-8c2f-3be236d717ce",
        "colab": {
          "base_uri": "https://localhost:8080/",
          "height": 225
        }
      },
      "source": [
        "# Using dot product\n",
        "f = lambda x,y : sum([abs(np.dot(x,i)) for i in y])\n",
        "\n",
        "res = minimize(f, [1,1,1], method='SLSQP', args=([a,b,c]))\n",
        "\n",
        "print(res)\n",
        "\n",
        "res = res.x / np.linalg.norm(res.x)\n",
        "\n",
        "print(res)\n",
        "\n",
        "print(g(res, [a,b,c]))\n",
        "print(f(res, [a,b,c]))"
      ],
      "execution_count": 17,
      "outputs": [
        {
          "output_type": "stream",
          "text": [
            "     fun: 3.6742948324917505e-07\n",
            "     jac: array([-0.42568351, -0.63970265, -0.58881532])\n",
            " message: 'Optimization terminated successfully.'\n",
            "    nfev: 183\n",
            "     nit: 26\n",
            "    njev: 26\n",
            "  status: 0\n",
            " success: True\n",
            "       x: array([ 2.96088609e-06, -3.12761526e-06,  7.99432098e-07])\n",
            "[ 0.67593946 -0.714002    0.18250202]\n",
            "0.08388032512973391\n",
            "0.08388032512973391\n"
          ],
          "name": "stdout"
        }
      ]
    },
    {
      "cell_type": "code",
      "metadata": {
        "id": "IkUoRcHPmTY7",
        "colab_type": "code",
        "outputId": "5c8c0676-8c3d-45a5-fd0d-948036d6bffd",
        "colab": {
          "base_uri": "https://localhost:8080/",
          "height": 208
        }
      },
      "source": [
        "# Using dot product in spherical coordinates\n",
        "def f(x,y):\n",
        "  # convert y to sph\n",
        "  y_sph = []\n",
        "  for i in y:\n",
        "    y_sph.append(cart2sph(*i))\n",
        "  \n",
        "  # extract r, theta, phi\n",
        "  r, theta, phi = x\n",
        "  \n",
        "  #print(y_sph)\n",
        "  # return the dot product\n",
        "  return sum([r * i[0] * (m.sin(theta) * m.sin(i[1]) * m.cos(phi-i[2]) + m.cos(theta) * m.cos(i[1]) ) for i  in y_sph])\n",
        "\n",
        "\n",
        "res = minimize(f, [1,1,1], method='SLSQP', args=([a,b,c]))\n",
        "\n",
        "print(res)\n",
        "\n",
        "final_res = sph2cart(*res.x)\n",
        "\n",
        "res = final_res / np.linalg.norm(final_res)\n",
        "\n",
        "print(res)\n",
        "\n",
        "g(res, [a,b,c])"
      ],
      "execution_count": 15,
      "outputs": [
        {
          "output_type": "stream",
          "text": [
            "     fun: -4060862101.669054\n",
            "     jac: array([        0., -60321472.,   -998656.])\n",
            " message: 'Iteration limit exceeded'\n",
            "    nfev: 1214\n",
            "     nit: 101\n",
            "    njev: 101\n",
            "  status: 9\n",
            " success: False\n",
            "       x: array([-1.37325871e+09, -6.20728746e+01, -2.00053735e+02])\n",
            "[-0.3670678  -0.58211156 -0.72553936]\n"
          ],
          "name": "stdout"
        },
        {
          "output_type": "execute_result",
          "data": {
            "text/plain": [
              "2.9548994513914324"
            ]
          },
          "metadata": {
            "tags": []
          },
          "execution_count": 15
        }
      ]
    }
  ]
}