{
  "nbformat": 4,
  "nbformat_minor": 0,
  "metadata": {
    "colab": {
      "name": "best-perpendicular-vector.ipynb",
      "version": "0.3.2",
      "provenance": [],
      "collapsed_sections": [],
      "include_colab_link": true
    },
    "kernelspec": {
      "name": "python3",
      "display_name": "Python 3"
    }
  },
  "cells": [
    {
      "cell_type": "markdown",
      "metadata": {
        "id": "view-in-github",
        "colab_type": "text"
      },
      "source": [
        "<a href=\"https://colab.research.google.com/github/dhuy228/find-best-vector/blob/master/best_perpendicular_vector.ipynb\" target=\"_parent\"><img src=\"https://colab.research.google.com/assets/colab-badge.svg\" alt=\"Open In Colab\"/></a>"
      ]
    },
    {
      "cell_type": "code",
      "metadata": {
        "id": "ejbF0547gHRb",
        "colab_type": "code",
        "colab": {}
      },
      "source": [
        "import numpy as np\n",
        "import math as m\n",
        "from scipy.optimize import minimize"
      ],
      "execution_count": 0,
      "outputs": []
    },
    {
      "cell_type": "code",
      "metadata": {
        "id": "4UiGlJq1gKPd",
        "colab_type": "code",
        "colab": {}
      },
      "source": [
        "a = [1,2,3]\n",
        "b = [2,3,4]\n",
        "c = [4,5,4]\n",
        "\n",
        "a = np.array(a)\n",
        "b = np.array(b)\n",
        "c = np.array(c)"
      ],
      "execution_count": 0,
      "outputs": []
    },
    {
      "cell_type": "code",
      "metadata": {
        "id": "QYfbwVZSgYAE",
        "colab_type": "code",
        "colab": {}
      },
      "source": [
        "def cart2sph(x,y,z, r = 1):\n",
        "        #print(x, y, z)\n",
        "        ss_xy = x**2 + y**2\n",
        "        #r = m.sqrt(ss_xy+z**2)\n",
        "        theta = m.atan2(z,m.sqrt(ss_xy))\n",
        "        phi = m.atan2(y,x)\n",
        "        return np.array([r,theta,phi])\n",
        "\n",
        "def sph2cart(r, theta, phi):\n",
        "        x = r * m.sin(theta) * m.cos(phi)\n",
        "        y = r * m.sin(theta) * m.sin(phi)\n",
        "        z = r * m.cos(theta)\n",
        "        return np.array([x,y,z])\n",
        "      \n",
        "def angle_between_vector(v1, v2, degree=True):\n",
        "        v1_u = v1 / np.linalg.norm(v1)\n",
        "        v2_u = v2 / np.linalg.norm(v2)\n",
        "\n",
        "        # Clip, because the dot product can slip past 1 or -1 due to rounding and\n",
        "        # we can't coputer accros with abs(value) > 1\n",
        "        angle = np.arccos(np.clip(np.dot(v1_u, v2_u), -1.0, 1.0))\n",
        "        if degree: angle = np.degrees(angle)\n",
        "        return angle\n",
        "\n"
      ],
      "execution_count": 0,
      "outputs": []
    },
    {
      "cell_type": "code",
      "metadata": {
        "id": "YqpBamr3gnNE",
        "colab_type": "code",
        "colab": {
          "base_uri": "https://localhost:8080/",
          "height": 191
        },
        "outputId": "ad53e02b-1b7b-480c-e202-05e05eb772b9"
      },
      "source": [
        "f = lambda x,y : sum([abs(m.cos(angle_between_vector(x,i))) for i in y])\n",
        "                      \n",
        "res = minimize(f, [1,1,1], method='SLSQP', args=([a,b,c]))\n",
        "\n",
        "print(res)\n",
        "\n",
        "res.x / np.linalg.norm(res.x)"
      ],
      "execution_count": 17,
      "outputs": [
        {
          "output_type": "stream",
          "text": [
            "     fun: 0.8792532687108174\n",
            "     jac: array([36.59929569, -7.42583732, -3.23971665])\n",
            " message: 'Optimization terminated successfully.'\n",
            "    nfev: 175\n",
            "     nit: 21\n",
            "    njev: 21\n",
            "  status: 0\n",
            " success: True\n",
            "       x: array([0.85262461, 1.03415564, 1.74068299])\n"
          ],
          "name": "stdout"
        },
        {
          "output_type": "execute_result",
          "data": {
            "text/plain": [
              "array([0.38810133, 0.47073141, 0.79233156])"
            ]
          },
          "metadata": {
            "tags": []
          },
          "execution_count": 17
        }
      ]
    },
    {
      "cell_type": "code",
      "metadata": {
        "id": "iN_MnHfdisam",
        "colab_type": "code",
        "colab": {
          "base_uri": "https://localhost:8080/",
          "height": 191
        },
        "outputId": "94a9649c-51ed-4498-e48c-ee9a1e7590c3"
      },
      "source": [
        "f = lambda x,y : sum([abs(np.dot(x,i)) for i in y])\n",
        "\n",
        "res = minimize(f, [1,1,1], method='SLSQP', args=([a,b,c]))\n",
        "\n",
        "print(res)\n",
        "\n",
        "res.x / np.linalg.norm(res.x)"
      ],
      "execution_count": 16,
      "outputs": [
        {
          "output_type": "stream",
          "text": [
            "     fun: 5.173154166322043e-07\n",
            "     jac: array([ -7., -10., -11.])\n",
            " message: 'Optimization terminated successfully.'\n",
            "    nfev: 154\n",
            "     nit: 24\n",
            "    njev: 24\n",
            "  status: 0\n",
            " success: True\n",
            "       x: array([-1.94089404e-06,  1.92700465e-06, -4.74974621e-07])\n"
          ],
          "name": "stdout"
        },
        {
          "output_type": "execute_result",
          "data": {
            "text/plain": [
              "array([-0.69917651,  0.69417308, -0.17110213])"
            ]
          },
          "metadata": {
            "tags": []
          },
          "execution_count": 16
        }
      ]
    },
    {
      "cell_type": "code",
      "metadata": {
        "id": "IAAYqC6ikJpk",
        "colab_type": "code",
        "colab": {}
      },
      "source": [
        "def f(x,y):\n",
        "  # convert y to sph\n",
        "  y_sph = []\n",
        "  for i in y:\n",
        "    y_sph.append(cart2sph(*i))\n",
        "  \n",
        "  # extract r, theta, phi\n",
        "  r, theta, phi = x\n",
        "  \n",
        "  #print(y_sph)\n",
        "  # return the dot product\n",
        "  return sum([r * i[0] * (m.sin(theta) * m.sin(i[1]) * m.cos(phi-i[2]) + m.cos(theta) * m.cos(i[1]) ) for i  in y_sph])"
      ],
      "execution_count": 0,
      "outputs": []
    },
    {
      "cell_type": "code",
      "metadata": {
        "id": "IkUoRcHPmTY7",
        "colab_type": "code",
        "colab": {
          "base_uri": "https://localhost:8080/",
          "height": 191
        },
        "outputId": "3e09daae-9ab0-49ff-9796-94de08853c01"
      },
      "source": [
        "res = minimize(f, [1,1,1], method='SLSQP', args=([a,b,c]))\n",
        "\n",
        "print(res)\n",
        "\n",
        "res.x / np.linalg.norm(res.x)"
      ],
      "execution_count": 41,
      "outputs": [
        {
          "output_type": "stream",
          "text": [
            "     fun: -4060862101.669054\n",
            "     jac: array([        0., -60321472.,   -998656.])\n",
            " message: 'Iteration limit exceeded'\n",
            "    nfev: 1214\n",
            "     nit: 101\n",
            "    njev: 101\n",
            "  status: 9\n",
            " success: False\n",
            "       x: array([-1.37325871e+09, -6.20728746e+01, -2.00053735e+02])\n"
          ],
          "name": "stdout"
        },
        {
          "output_type": "execute_result",
          "data": {
            "text/plain": [
              "array([-1.00000000e+00, -4.52011511e-08, -1.45678111e-07])"
            ]
          },
          "metadata": {
            "tags": []
          },
          "execution_count": 41
        }
      ]
    }
  ]
}